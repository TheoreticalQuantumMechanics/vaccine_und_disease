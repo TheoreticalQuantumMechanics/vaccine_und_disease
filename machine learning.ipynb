{
 "cells": [
  {
   "cell_type": "code",
   "execution_count": 1,
   "id": "cd6e899e-593f-4167-8fa3-810b7b04eb5c",
   "metadata": {},
   "outputs": [],
   "source": [
    "import numpy as np"
   ]
  },
  {
   "cell_type": "code",
   "execution_count": 5,
   "id": "34c4d78a-464b-4f67-bae5-d85de70b17be",
   "metadata": {},
   "outputs": [
    {
     "ename": "OSError",
     "evalue": "[WinError 126] Das angegebene Modul wurde nicht gefunden. Error loading \"C:\\Users\\rizki\\Lib\\site-packages\\torch\\lib\\fbgemm.dll\" or one of its dependencies.",
     "output_type": "error",
     "traceback": [
      "\u001b[1;31m---------------------------------------------------------------------------\u001b[0m",
      "\u001b[1;31mOSError\u001b[0m                                   Traceback (most recent call last)",
      "Cell \u001b[1;32mIn[5], line 1\u001b[0m\n\u001b[1;32m----> 1\u001b[0m \u001b[38;5;28;01mimport\u001b[39;00m \u001b[38;5;21;01mtorch\u001b[39;00m\n",
      "File \u001b[1;32m~\\Lib\\site-packages\\torch\\__init__.py:148\u001b[0m\n\u001b[0;32m    146\u001b[0m                 err \u001b[38;5;241m=\u001b[39m ctypes\u001b[38;5;241m.\u001b[39mWinError(ctypes\u001b[38;5;241m.\u001b[39mget_last_error())\n\u001b[0;32m    147\u001b[0m                 err\u001b[38;5;241m.\u001b[39mstrerror \u001b[38;5;241m+\u001b[39m\u001b[38;5;241m=\u001b[39m \u001b[38;5;124mf\u001b[39m\u001b[38;5;124m'\u001b[39m\u001b[38;5;124m Error loading \u001b[39m\u001b[38;5;124m\"\u001b[39m\u001b[38;5;132;01m{\u001b[39;00mdll\u001b[38;5;132;01m}\u001b[39;00m\u001b[38;5;124m\"\u001b[39m\u001b[38;5;124m or one of its dependencies.\u001b[39m\u001b[38;5;124m'\u001b[39m\n\u001b[1;32m--> 148\u001b[0m                 \u001b[38;5;28;01mraise\u001b[39;00m err\n\u001b[0;32m    150\u001b[0m     kernel32\u001b[38;5;241m.\u001b[39mSetErrorMode(prev_error_mode)\n\u001b[0;32m    153\u001b[0m \u001b[38;5;28;01mdef\u001b[39;00m \u001b[38;5;21m_preload_cuda_deps\u001b[39m(lib_folder, lib_name):\n",
      "\u001b[1;31mOSError\u001b[0m: [WinError 126] Das angegebene Modul wurde nicht gefunden. Error loading \"C:\\Users\\rizki\\Lib\\site-packages\\torch\\lib\\fbgemm.dll\" or one of its dependencies."
     ]
    }
   ],
   "source": [
    "import torch"
   ]
  },
  {
   "cell_type": "code",
   "execution_count": 3,
   "id": "7892c43d-2ae3-48cf-bd0c-a517754c330b",
   "metadata": {},
   "outputs": [
    {
     "name": "stdout",
     "output_type": "stream",
     "text": [
      "Requirement already satisfied: torch in c:\\users\\rizki\\lib\\site-packages (2.4.0+cu118)\n",
      "Requirement already satisfied: filelock in c:\\users\\rizki\\lib\\site-packages (from torch) (3.15.4)\n",
      "Requirement already satisfied: typing-extensions>=4.8.0 in c:\\users\\rizki\\lib\\site-packages (from torch) (4.12.0)\n",
      "Requirement already satisfied: sympy in c:\\users\\rizki\\lib\\site-packages (from torch) (1.12)\n",
      "Requirement already satisfied: networkx in c:\\users\\rizki\\lib\\site-packages (from torch) (3.3)\n",
      "Requirement already satisfied: jinja2 in c:\\users\\rizki\\lib\\site-packages (from torch) (3.1.4)\n",
      "Requirement already satisfied: fsspec in c:\\users\\rizki\\lib\\site-packages (from torch) (2024.6.1)\n",
      "Requirement already satisfied: MarkupSafe>=2.0 in c:\\users\\rizki\\lib\\site-packages (from jinja2->torch) (2.1.5)\n",
      "Requirement already satisfied: mpmath>=0.19 in c:\\users\\rizki\\lib\\site-packages (from sympy->torch) (1.3.0)\n"
     ]
    },
    {
     "name": "stderr",
     "output_type": "stream",
     "text": [
      "\n",
      "[notice] A new release of pip is available: 23.1.2 -> 24.2\n",
      "[notice] To update, run: python.exe -m pip install --upgrade pip\n"
     ]
    }
   ],
   "source": [
    "!pip install torch"
   ]
  },
  {
   "cell_type": "code",
   "execution_count": 2,
   "id": "d07de029-7d1a-4d63-acd1-8f40d68920a4",
   "metadata": {},
   "outputs": [],
   "source": [
    "def burnout():\n",
    "    st = s0*np.exp(-t)\n",
    "    return st"
   ]
  },
  {
   "cell_type": "code",
   "execution_count": 8,
   "id": "9a8e0034-429d-43df-a9c4-06c88e74d456",
   "metadata": {},
   "outputs": [
    {
     "data": {
      "text/plain": [
       "array([1.00000000e+00, 3.64182192e-01, 1.32628669e-01, 4.83009992e-02,\n",
       "       1.75903638e-02, 6.40609723e-03, 2.33298653e-03, 8.49632147e-04,\n",
       "       3.09420897e-04, 1.12685581e-04, 4.10380817e-05, 1.49453385e-05,\n",
       "       5.44282614e-06, 1.98218035e-06, 7.21874785e-07, 2.62893941e-07,\n",
       "       9.57412917e-08, 3.48672734e-08, 1.26980401e-08, 4.62440006e-09,\n",
       "       1.68412415e-09, 6.13328023e-10, 2.23363144e-10, 8.13448792e-11,\n",
       "       2.96243564e-11, 1.07886630e-11, 3.92903895e-12, 1.43088601e-12,\n",
       "       5.21103205e-13, 1.89776507e-13, 6.91132243e-14, 2.51698055e-14,\n",
       "       9.16639493e-15, 3.33823780e-15, 1.21572676e-15, 4.42746035e-16,\n",
       "       1.61240221e-16, 5.87208171e-17, 2.13850759e-17, 7.78806380e-18,\n",
       "       2.83627414e-18, 1.03292053e-18, 3.76171264e-19, 1.36994875e-19,\n",
       "       4.98910939e-20, 1.81694479e-20, 6.61698937e-21, 2.40978969e-21,\n",
       "       8.77602491e-22, 3.19607198e-22, 1.16395250e-22, 4.23890772e-23,\n",
       "       1.54373470e-23, 5.62200688e-24, 2.04743479e-24, 7.45639288e-25,\n",
       "       2.71548550e-25, 9.88931461e-26, 3.60151227e-26, 1.31160663e-26,\n",
       "       4.77663778e-27, 1.73956641e-27, 6.33519109e-28, 2.30716378e-28,\n",
       "       8.40227960e-29, 3.05996060e-29, 1.11438316e-29, 4.05838501e-30,\n",
       "       1.47799155e-30, 5.38258201e-31, 1.96024051e-31, 7.13884686e-32,\n",
       "       2.59984089e-32, 9.46815755e-33, 3.44813437e-33, 1.25574913e-33,\n",
       "       4.57321470e-34, 1.66548335e-34, 6.06539378e-35, 2.20890840e-35,\n",
       "       8.04445102e-36, 2.92964580e-36, 1.06692483e-36, 3.88555023e-37,\n",
       "       1.41504820e-37, 5.15335354e-38, 1.87675959e-38, 6.83482419e-39,\n",
       "       2.48912125e-39, 9.06493633e-40, 3.30128838e-40, 1.20227044e-40,\n",
       "       4.37845483e-41, 1.59455528e-41, 5.80708635e-42, 2.11483743e-42,\n",
       "       7.70186132e-43, 2.80488073e-43, 1.02148761e-43, 3.72007598e-44])"
      ]
     },
     "execution_count": 8,
     "metadata": {},
     "output_type": "execute_result"
    }
   ],
   "source": [
    "burnout()"
   ]
  },
  {
   "cell_type": "code",
   "execution_count": 4,
   "id": "bd6e8d65-e662-43e5-ae6d-76039d2cd307",
   "metadata": {},
   "outputs": [
    {
     "data": {
      "text/plain": [
       "<function __main__.burnout()>"
      ]
     },
     "execution_count": 4,
     "metadata": {},
     "output_type": "execute_result"
    }
   ],
   "source": [
    "burnout"
   ]
  },
  {
   "cell_type": "code",
   "execution_count": 7,
   "id": "991ad5fd-4bd5-4a26-b6a4-dcda5f53feca",
   "metadata": {},
   "outputs": [],
   "source": [
    "s0 = 1\n",
    "t = np.linspace(0,100,100)"
   ]
  },
  {
   "cell_type": "code",
   "execution_count": 6,
   "id": "cf10e8c1-19d1-445c-8275-28cb7d1aa1c3",
   "metadata": {},
   "outputs": [],
   "source": [
    "import numpy as np"
   ]
  },
  {
   "cell_type": "code",
   "execution_count": 9,
   "id": "82b97807-fdbd-4008-adf8-7773f66f5a39",
   "metadata": {},
   "outputs": [],
   "source": [
    "import matplotlib.pyplot as plt"
   ]
  },
  {
   "cell_type": "code",
   "execution_count": 10,
   "id": "440587c6-8773-4e54-9219-23ecf762e0d1",
   "metadata": {},
   "outputs": [
    {
     "data": {
      "text/plain": [
       "[<matplotlib.lines.Line2D at 0x1a21713d210>]"
      ]
     },
     "execution_count": 10,
     "metadata": {},
     "output_type": "execute_result"
    },
    {
     "data": {
      "image/png": "[encoded data removed]",
      "text/plain": [
       "<Figure size 640x480 with 1 Axes>"
      ]
     },
     "metadata": {},
     "output_type": "display_data"
    }
   ],
   "source": [
    "plt.plot(t, burnout())"
   ]
  },
  {
   "cell_type": "code",
   "execution_count": 29,
   "id": "bfa004e4-adca-4e37-b8e9-d8730ffe8b59",
   "metadata": {},
   "outputs": [],
   "source": [
    "def derivatives(t,y, vaccinerate, birthrate = 0.01):\n",
    "    #infectionrate\n",
    "    alpha = .3\n",
    "    r = 0.02\n",
    "    b = .01\n",
    "    d = .01\n",
    "    S,I, R = y\n",
    "    N = S+I+R \n",
    "    dSdt = -alpha*S*I/N +(1-vaccinerate)*b*N - d*S\n",
    "    dIdt = alpha*S*I/N - (r+d)*I\n",
    "    dRdt = r*I - d*R + vaccinerate*b*N \n",
    "    return dSdt, dIdt, dRdt\n"
   ]
  },
  {
   "cell_type": "code",
   "execution_count": 30,
   "id": "44d87737",
   "metadata": {},
   "outputs": [
    {
     "data": {
      "text/plain": [
       "(-0.255, 0.21, 0.045)"
      ]
     },
     "execution_count": 30,
     "metadata": {},
     "output_type": "execute_result"
    }
   ],
   "source": [
    "derivatives(y=(4,1,0), t=0, vaccinerate=.5)"
   ]
  },
  {
   "cell_type": "code",
   "execution_count": 12,
   "id": "1e5f0292",
   "metadata": {},
   "outputs": [],
   "source": [
    "import numpy as np"
   ]
  },
  {
   "cell_type": "code",
   "execution_count": 13,
   "id": "b6cfe8e9",
   "metadata": {},
   "outputs": [
    {
     "ename": "TypeError",
     "evalue": "array() missing required argument 'object' (pos 0)",
     "output_type": "error",
     "traceback": [
      "\u001b[1;31m---------------------------------------------------------------------------\u001b[0m",
      "\u001b[1;31mTypeError\u001b[0m                                 Traceback (most recent call last)",
      "Cell \u001b[1;32mIn[13], line 1\u001b[0m\n\u001b[1;32m----> 1\u001b[0m \u001b[43mnumpy\u001b[49m\u001b[38;5;241;43m.\u001b[39;49m\u001b[43marray\u001b[49m\u001b[43m(\u001b[49m\u001b[43m)\u001b[49m\n",
      "\u001b[1;31mTypeError\u001b[0m: array() missing required argument 'object' (pos 0)"
     ]
    }
   ],
   "source": [
    "numpy.array()"
   ]
  },
  {
   "cell_type": "code",
   "execution_count": 14,
   "id": "a60fa226",
   "metadata": {},
   "outputs": [],
   "source": [
    "from scipy.integrate import odeint"
   ]
  },
  {
   "cell_type": "code",
   "execution_count": 15,
   "id": "2c6f9ba7",
   "metadata": {},
   "outputs": [],
   "source": [
    "def solveode(derivatives, t, y0=(2999,1,0), vaccinerate =0.85, birthrate = 0.01):\n",
    "    sol = odeint(derivatives, t, y0, args=(vaccinerate, birthrate) )\n",
    "    t,S,I,R = sol.t, sol.y[0], sol.y[1], sol.y[2]\n",
    "    return t,S,I,R"
   ]
  },
  {
   "cell_type": "code",
   "execution_count": 16,
   "id": "490b0b3e",
   "metadata": {},
   "outputs": [
    {
     "ename": "NameError",
     "evalue": "name 'sol' is not defined",
     "output_type": "error",
     "traceback": [
      "\u001b[1;31m---------------------------------------------------------------------------\u001b[0m",
      "\u001b[1;31mNameError\u001b[0m                                 Traceback (most recent call last)",
      "Cell \u001b[1;32mIn[16], line 1\u001b[0m\n\u001b[1;32m----> 1\u001b[0m \u001b[43msol\u001b[49m\u001b[38;5;241m.\u001b[39mt\n",
      "\u001b[1;31mNameError\u001b[0m: name 'sol' is not defined"
     ]
    }
   ],
   "source": [
    "sol.t"
   ]
  },
  {
   "cell_type": "code",
   "execution_count": 17,
   "id": "49083dcd",
   "metadata": {},
   "outputs": [],
   "source": [
    "t = [0,730]"
   ]
  },
  {
   "cell_type": "code",
   "execution_count": 18,
   "id": "12192529",
   "metadata": {},
   "outputs": [],
   "source": [
    "t = np.linspace(0,10,100)"
   ]
  },
  {
   "cell_type": "code",
   "execution_count": 23,
   "id": "3bbf0b4c",
   "metadata": {},
   "outputs": [],
   "source": [
    "y0 = 2999, 1, 0"
   ]
  },
  {
   "cell_type": "code",
   "execution_count": 31,
   "id": "5afdc366",
   "metadata": {},
   "outputs": [
    {
     "ename": "TypeError",
     "evalue": "cannot unpack non-iterable float object",
     "output_type": "error",
     "traceback": [
      "\u001b[1;31m---------------------------------------------------------------------------\u001b[0m",
      "\u001b[1;31mTypeError\u001b[0m                                 Traceback (most recent call last)",
      "Cell \u001b[1;32mIn[31], line 1\u001b[0m\n\u001b[1;32m----> 1\u001b[0m t,S,I,R \u001b[38;5;241m=\u001b[39m \u001b[43msolveode\u001b[49m\u001b[43m(\u001b[49m\u001b[43mderivatives\u001b[49m\u001b[43m,\u001b[49m\u001b[43mt\u001b[49m\u001b[43m,\u001b[49m\u001b[43my0\u001b[49m\u001b[43m,\u001b[49m\u001b[43m \u001b[49m\u001b[43mvaccinerate\u001b[49m\u001b[38;5;241;43m=\u001b[39;49m\u001b[38;5;241;43m0\u001b[39;49m\u001b[43m)\u001b[49m\n",
      "Cell \u001b[1;32mIn[15], line 2\u001b[0m, in \u001b[0;36msolveode\u001b[1;34m(derivatives, t, y0, vaccinerate, birthrate)\u001b[0m\n\u001b[0;32m      1\u001b[0m \u001b[38;5;28;01mdef\u001b[39;00m \u001b[38;5;21msolveode\u001b[39m(derivatives, t, y0\u001b[38;5;241m=\u001b[39m(\u001b[38;5;241m2999\u001b[39m,\u001b[38;5;241m1\u001b[39m,\u001b[38;5;241m0\u001b[39m), vaccinerate \u001b[38;5;241m=\u001b[39m\u001b[38;5;241m0.85\u001b[39m, birthrate \u001b[38;5;241m=\u001b[39m \u001b[38;5;241m0.01\u001b[39m):\n\u001b[1;32m----> 2\u001b[0m     sol \u001b[38;5;241m=\u001b[39m \u001b[43modeint\u001b[49m\u001b[43m(\u001b[49m\u001b[43mderivatives\u001b[49m\u001b[43m,\u001b[49m\u001b[43m \u001b[49m\u001b[43mt\u001b[49m\u001b[43m,\u001b[49m\u001b[43m \u001b[49m\u001b[43my0\u001b[49m\u001b[43m,\u001b[49m\u001b[43m \u001b[49m\u001b[43margs\u001b[49m\u001b[38;5;241;43m=\u001b[39;49m\u001b[43m(\u001b[49m\u001b[43mvaccinerate\u001b[49m\u001b[43m,\u001b[49m\u001b[43m \u001b[49m\u001b[43mbirthrate\u001b[49m\u001b[43m)\u001b[49m\u001b[43m \u001b[49m\u001b[43m)\u001b[49m\n\u001b[0;32m      3\u001b[0m     t,S,I,R \u001b[38;5;241m=\u001b[39m sol\u001b[38;5;241m.\u001b[39mt, sol\u001b[38;5;241m.\u001b[39my[\u001b[38;5;241m0\u001b[39m], sol\u001b[38;5;241m.\u001b[39my[\u001b[38;5;241m1\u001b[39m], sol\u001b[38;5;241m.\u001b[39my[\u001b[38;5;241m2\u001b[39m]\n\u001b[0;32m      4\u001b[0m     \u001b[38;5;28;01mreturn\u001b[39;00m t,S,I,R\n",
      "File \u001b[1;32mc:\\Users\\rizki\\Lib\\site-packages\\scipy\\integrate\\_odepack_py.py:242\u001b[0m, in \u001b[0;36modeint\u001b[1;34m(func, y0, t, args, Dfun, col_deriv, full_output, ml, mu, rtol, atol, tcrit, h0, hmax, hmin, ixpr, mxstep, mxhnil, mxordn, mxords, printmessg, tfirst)\u001b[0m\n\u001b[0;32m    240\u001b[0m t \u001b[38;5;241m=\u001b[39m copy(t)\n\u001b[0;32m    241\u001b[0m y0 \u001b[38;5;241m=\u001b[39m copy(y0)\n\u001b[1;32m--> 242\u001b[0m output \u001b[38;5;241m=\u001b[39m \u001b[43m_odepack\u001b[49m\u001b[38;5;241;43m.\u001b[39;49m\u001b[43modeint\u001b[49m\u001b[43m(\u001b[49m\u001b[43mfunc\u001b[49m\u001b[43m,\u001b[49m\u001b[43m \u001b[49m\u001b[43my0\u001b[49m\u001b[43m,\u001b[49m\u001b[43m \u001b[49m\u001b[43mt\u001b[49m\u001b[43m,\u001b[49m\u001b[43m \u001b[49m\u001b[43margs\u001b[49m\u001b[43m,\u001b[49m\u001b[43m \u001b[49m\u001b[43mDfun\u001b[49m\u001b[43m,\u001b[49m\u001b[43m \u001b[49m\u001b[43mcol_deriv\u001b[49m\u001b[43m,\u001b[49m\u001b[43m \u001b[49m\u001b[43mml\u001b[49m\u001b[43m,\u001b[49m\u001b[43m \u001b[49m\u001b[43mmu\u001b[49m\u001b[43m,\u001b[49m\n\u001b[0;32m    243\u001b[0m \u001b[43m                         \u001b[49m\u001b[43mfull_output\u001b[49m\u001b[43m,\u001b[49m\u001b[43m \u001b[49m\u001b[43mrtol\u001b[49m\u001b[43m,\u001b[49m\u001b[43m \u001b[49m\u001b[43matol\u001b[49m\u001b[43m,\u001b[49m\u001b[43m \u001b[49m\u001b[43mtcrit\u001b[49m\u001b[43m,\u001b[49m\u001b[43m \u001b[49m\u001b[43mh0\u001b[49m\u001b[43m,\u001b[49m\u001b[43m \u001b[49m\u001b[43mhmax\u001b[49m\u001b[43m,\u001b[49m\u001b[43m \u001b[49m\u001b[43mhmin\u001b[49m\u001b[43m,\u001b[49m\n\u001b[0;32m    244\u001b[0m \u001b[43m                         \u001b[49m\u001b[43mixpr\u001b[49m\u001b[43m,\u001b[49m\u001b[43m \u001b[49m\u001b[43mmxstep\u001b[49m\u001b[43m,\u001b[49m\u001b[43m \u001b[49m\u001b[43mmxhnil\u001b[49m\u001b[43m,\u001b[49m\u001b[43m \u001b[49m\u001b[43mmxordn\u001b[49m\u001b[43m,\u001b[49m\u001b[43m \u001b[49m\u001b[43mmxords\u001b[49m\u001b[43m,\u001b[49m\n\u001b[0;32m    245\u001b[0m \u001b[43m                         \u001b[49m\u001b[38;5;28;43mint\u001b[39;49m\u001b[43m(\u001b[49m\u001b[38;5;28;43mbool\u001b[39;49m\u001b[43m(\u001b[49m\u001b[43mtfirst\u001b[49m\u001b[43m)\u001b[49m\u001b[43m)\u001b[49m\u001b[43m)\u001b[49m\n\u001b[0;32m    246\u001b[0m \u001b[38;5;28;01mif\u001b[39;00m output[\u001b[38;5;241m-\u001b[39m\u001b[38;5;241m1\u001b[39m] \u001b[38;5;241m<\u001b[39m \u001b[38;5;241m0\u001b[39m:\n\u001b[0;32m    247\u001b[0m     warning_msg \u001b[38;5;241m=\u001b[39m _msgs[output[\u001b[38;5;241m-\u001b[39m\u001b[38;5;241m1\u001b[39m]] \u001b[38;5;241m+\u001b[39m \u001b[38;5;124m\"\u001b[39m\u001b[38;5;124m Run with full_output = 1 to get quantitative information.\u001b[39m\u001b[38;5;124m\"\u001b[39m\n",
      "Cell \u001b[1;32mIn[29], line 7\u001b[0m, in \u001b[0;36mderivatives\u001b[1;34m(t, y, vaccinerate, birthrate)\u001b[0m\n\u001b[0;32m      5\u001b[0m b \u001b[38;5;241m=\u001b[39m \u001b[38;5;241m.01\u001b[39m\n\u001b[0;32m      6\u001b[0m d \u001b[38;5;241m=\u001b[39m \u001b[38;5;241m.01\u001b[39m\n\u001b[1;32m----> 7\u001b[0m S,I, R \u001b[38;5;241m=\u001b[39m y\n\u001b[0;32m      8\u001b[0m N \u001b[38;5;241m=\u001b[39m S\u001b[38;5;241m+\u001b[39mI\u001b[38;5;241m+\u001b[39mR \n\u001b[0;32m      9\u001b[0m dSdt \u001b[38;5;241m=\u001b[39m \u001b[38;5;241m-\u001b[39malpha\u001b[38;5;241m*\u001b[39mS\u001b[38;5;241m*\u001b[39mI\u001b[38;5;241m/\u001b[39mN \u001b[38;5;241m+\u001b[39m(\u001b[38;5;241m1\u001b[39m\u001b[38;5;241m-\u001b[39mvaccinerate)\u001b[38;5;241m*\u001b[39mb\u001b[38;5;241m*\u001b[39mN \u001b[38;5;241m-\u001b[39m d\u001b[38;5;241m*\u001b[39mS\n",
      "\u001b[1;31mTypeError\u001b[0m: cannot unpack non-iterable float object"
     ]
    }
   ],
   "source": [
    "t,S,I,R = solveode(derivatives,t,y0, vaccinerate=0)"
   ]
  },
  {
   "cell_type": "code",
   "execution_count": 25,
   "id": "25846512",
   "metadata": {},
   "outputs": [],
   "source": [
    "from scipy.integrate import solve_ivp"
   ]
  },
  {
   "cell_type": "code",
   "execution_count": 81,
   "id": "d3d1d539",
   "metadata": {},
   "outputs": [],
   "source": [
    "def solveode2(derivativefunction, tspan, y0=(2999,1,0), vaccinerate = 0.85, birthrate = 0.01):\n",
    "    sol = solve_ivp(derivativefunction, tspan, y0, args=(vaccinerate, birthrate))\n",
    "    t,S,I,R = sol.t, sol.y[0], sol.y[1], sol.y[2]\n",
    "    return t,S,I,R"
   ]
  },
  {
   "cell_type": "code",
   "execution_count": 82,
   "id": "a6bc99d8",
   "metadata": {},
   "outputs": [],
   "source": [
    "tspan=[0, 730]"
   ]
  },
  {
   "cell_type": "code",
   "execution_count": 83,
   "id": "eb65f3cb",
   "metadata": {},
   "outputs": [],
   "source": [
    "t,S,I,R = solveode2(derivatives, tspan, vaccinerate=0)"
   ]
  },
  {
   "cell_type": "code",
   "execution_count": 84,
   "id": "d1c86c20",
   "metadata": {},
   "outputs": [
    {
     "data": {
      "text/plain": [
       "array([0.00000000e+00, 6.13053299e-02, 6.74358629e-01, 3.56496100e+00,\n",
       "       7.85178450e+00, 1.28536148e+01, 1.82327247e+01, 2.39443682e+01,\n",
       "       3.06127127e+01, 3.71938463e+01, 4.16047950e+01, 4.60157438e+01,\n",
       "       5.13350444e+01, 5.75063109e+01, 6.54130942e+01, 7.59680544e+01,\n",
       "       8.96048107e+01, 1.06086823e+02, 1.25483334e+02, 1.48333884e+02,\n",
       "       1.75603306e+02, 2.09331044e+02, 2.54458720e+02, 3.25464702e+02,\n",
       "       3.96497383e+02, 4.59841415e+02, 5.23185447e+02, 5.85381356e+02,\n",
       "       6.47577266e+02, 7.16570782e+02, 7.30000000e+02])"
      ]
     },
     "execution_count": 84,
     "metadata": {},
     "output_type": "execute_result"
    }
   ],
   "source": [
    "t"
   ]
  },
  {
   "cell_type": "code",
   "execution_count": 85,
   "id": "d5f206c4",
   "metadata": {},
   "outputs": [
    {
     "data": {
      "text/plain": [
       "array([2999.        , 2998.98208017, 2998.78563868, 2997.26518588,\n",
       "       2991.16426272, 2966.01875537, 2860.16492924, 2447.37869677,\n",
       "       1319.45310165,  460.56019002,  251.91455795,  177.98193372,\n",
       "        153.89137003,  154.22631995,  166.52005791,  187.19071846,\n",
       "        213.52063847,  241.13926112,  265.73017999,  283.93750112,\n",
       "        294.47289778,  298.83793531,  299.93174966,  300.13384905,\n",
       "        300.17533735,  299.72925807,  299.96262331,  300.21506386,\n",
       "        299.97180305,  299.75995737,  299.86909065])"
      ]
     },
     "execution_count": 85,
     "metadata": {},
     "output_type": "execute_result"
    }
   ],
   "source": [
    "S"
   ]
  },
  {
   "cell_type": "code",
   "execution_count": 86,
   "id": "2063298e",
   "metadata": {},
   "outputs": [
    {
     "data": {
      "text/plain": [
       "array([1.00000000e+00, 1.01668390e+00, 1.19961706e+00, 2.61675141e+00,\n",
       "       8.30744794e+00, 3.17613423e+01, 1.30340756e+02, 5.11895447e+02,\n",
       "       1.51466791e+03, 2.14200155e+03, 2.17987545e+03, 2.09348341e+03,\n",
       "       1.94599604e+03, 1.77698185e+03, 1.59058210e+03, 1.39649459e+03,\n",
       "       1.21925993e+03, 1.08232380e+03, 9.90100737e+02, 9.36456684e+02,\n",
       "       9.11014758e+02, 9.02060400e+02, 9.00140830e+02, 8.99827531e+02,\n",
       "       8.99576139e+02, 9.00402482e+02, 9.00183741e+02, 8.99641951e+02,\n",
       "       8.99967193e+02, 9.00451467e+02, 9.00233101e+02])"
      ]
     },
     "execution_count": 86,
     "metadata": {},
     "output_type": "execute_result"
    }
   ],
   "source": [
    "I"
   ]
  },
  {
   "cell_type": "code",
   "execution_count": 87,
   "id": "2eaa7017",
   "metadata": {},
   "outputs": [
    {
     "data": {
      "text/plain": [
       "array([0.00000000e+00, 1.23592868e-03, 1.47442565e-02, 1.18062716e-01,\n",
       "       5.28289339e-01, 2.21990231e+00, 9.49431515e+00, 4.07258561e+01,\n",
       "       1.65878990e+02, 3.97438260e+02, 5.68209992e+02, 7.28534652e+02,\n",
       "       9.00112594e+02, 1.06879183e+03, 1.24289784e+03, 1.41631469e+03,\n",
       "       1.56721943e+03, 1.67653693e+03, 1.74416908e+03, 1.77960581e+03,\n",
       "       1.79451234e+03, 1.79910166e+03, 1.79992742e+03, 1.80003862e+03,\n",
       "       1.80024852e+03, 1.79986826e+03, 1.79985364e+03, 1.80014298e+03,\n",
       "       1.80006100e+03, 1.79978858e+03, 1.79989781e+03])"
      ]
     },
     "execution_count": 87,
     "metadata": {},
     "output_type": "execute_result"
    }
   ],
   "source": [
    "R"
   ]
  },
  {
   "cell_type": "code",
   "execution_count": 88,
   "id": "acda81d6",
   "metadata": {},
   "outputs": [],
   "source": [
    "import matplotlib.pyplot as plt"
   ]
  },
  {
   "cell_type": "code",
   "execution_count": 89,
   "id": "1b464167",
   "metadata": {},
   "outputs": [
    {
     "data": {
      "text/plain": [
       "<matplotlib.legend.Legend at 0x1b920c0f3d0>"
      ]
     },
     "execution_count": 89,
     "metadata": {},
     "output_type": "execute_result"
    },
    {
     "data": {
      "image/png": "[encoded data removed]",
      "text/plain": [
       "<Figure size 640x480 with 1 Axes>"
      ]
     },
     "metadata": {},
     "output_type": "display_data"
    }
   ],
   "source": [
    "plt.plot(t,S,'--' ,label='susceptible')\n",
    "plt.plot(t,I, '*--', label='infected')\n",
    "plt.plot(t,R, '-', label= 'recovered')\n",
    "\n",
    "plt.legend()"
   ]
  },
  {
   "cell_type": "code",
   "execution_count": 90,
   "id": "3f539566",
   "metadata": {},
   "outputs": [],
   "source": [
    "t,S1,I2,R3 = solveode2(derivatives, tspan, vaccinerate=0.85)"
   ]
  },
  {
   "cell_type": "code",
   "execution_count": 91,
   "id": "fb89020c",
   "metadata": {},
   "outputs": [
    {
     "data": {
      "text/plain": [
       "array([2999.        , 2998.99857154, 2998.98428701, 2998.84144473,\n",
       "       2997.41332405, 2983.16155683, 2879.33248083, 2739.53167987,\n",
       "       2551.6456863 , 2199.7476707 , 1385.33111026,  456.34853202,\n",
       "        185.65803803,   91.44359825,   58.07281333,   49.24217679,\n",
       "         52.17521705,   64.57097052,   88.06757785,  122.9755522 ,\n",
       "        168.09615515,  219.50028814,  268.20863639,  302.58668878,\n",
       "        314.47278304,  305.44229574,  298.9410972 ])"
      ]
     },
     "execution_count": 91,
     "metadata": {},
     "output_type": "execute_result"
    }
   ],
   "source": [
    "S1"
   ]
  },
  {
   "cell_type": "code",
   "execution_count": 92,
   "id": "9a8b38ad",
   "metadata": {},
   "outputs": [
    {
     "data": {
      "text/plain": [
       "[<matplotlib.lines.Line2D at 0x1b91f7e0f90>]"
      ]
     },
     "execution_count": 92,
     "metadata": {},
     "output_type": "execute_result"
    },
    {
     "data": {
      "image/png": "[encoded data removed]",
      "text/plain": [
       "<Figure size 640x480 with 1 Axes>"
      ]
     },
     "metadata": {},
     "output_type": "display_data"
    }
   ],
   "source": [
    "plt.plot(t,S1, label= 'S vaccine')\n",
    "plt.plot(t,I2, label= 'I vaccine')\n",
    "plt.plot(t,R3, label= 'R vaccine')"
   ]
  },
  {
   "cell_type": "code",
   "execution_count": 93,
   "id": "8c302c44",
   "metadata": {},
   "outputs": [
    {
     "data": {
      "text/plain": [
       "array([2999.        , 2998.98208017, 2998.78563868, 2997.26518588,\n",
       "       2991.16426272, 2966.01875537, 2860.16492924, 2447.37869677,\n",
       "       1319.45310165,  460.56019002,  251.91455795,  177.98193372,\n",
       "        153.89137003,  154.22631995,  166.52005791,  187.19071846,\n",
       "        213.52063847,  241.13926112,  265.73017999,  283.93750112,\n",
       "        294.47289778,  298.83793531,  299.93174966,  300.13384905,\n",
       "        300.17533735,  299.72925807,  299.96262331,  300.21506386,\n",
       "        299.97180305,  299.75995737,  299.86909065])"
      ]
     },
     "execution_count": 93,
     "metadata": {},
     "output_type": "execute_result"
    }
   ],
   "source": [
    "S"
   ]
  },
  {
   "cell_type": "code",
   "execution_count": 94,
   "id": "522cb24e",
   "metadata": {},
   "outputs": [
    {
     "data": {
      "text/plain": [
       "299.8690906518757"
      ]
     },
     "execution_count": 94,
     "metadata": {},
     "output_type": "execute_result"
    }
   ],
   "source": [
    "S[-1]"
   ]
  },
  {
   "cell_type": "code",
   "execution_count": 117,
   "id": "cc8c59a5",
   "metadata": {},
   "outputs": [],
   "source": [
    "def dailycost( vaccinerate = 0.85):\n",
    "    b = 0.01\n",
    "    vcost = 220\n",
    "    mc = 10\n",
    "    tspan = [0,730]\n",
    "    t, S, I, R = solveode2(derivatives, tspan,vaccinerate=vaccinerate,birthrate=b )\n",
    "    N = S[-1]+I[-1]+R[-1]\n",
    "    dailyvaccinecost = N*b*vaccinerate*vcost \n",
    "    dailymedcost = I[-1]*mc\n",
    "    return dailyvaccinecost+dailymedcost"
   ]
  },
  {
   "cell_type": "code",
   "execution_count": 126,
   "id": "e14faaf7",
   "metadata": {},
   "outputs": [],
   "source": [
    "cost = dailycost(vaccinerate=0.0)"
   ]
  },
  {
   "cell_type": "code",
   "execution_count": 127,
   "id": "6a7ad8ce",
   "metadata": {},
   "outputs": [
    {
     "data": {
      "text/plain": [
       "9002.331011531704"
      ]
     },
     "execution_count": 127,
     "metadata": {},
     "output_type": "execute_result"
    }
   ],
   "source": [
    "cost"
   ]
  },
  {
   "cell_type": "code",
   "execution_count": 121,
   "id": "4896bcf8",
   "metadata": {},
   "outputs": [
    {
     "name": "stdout",
     "output_type": "stream",
     "text": [
      "6119.138102566938\n"
     ]
    }
   ],
   "source": [
    "cost2 = dailycost(vaccinerate=0.85)\n",
    "print(cost2)"
   ]
  },
  {
   "cell_type": "code",
   "execution_count": 128,
   "id": "0ab1490b",
   "metadata": {},
   "outputs": [],
   "source": [
    "diff = cost-cost2"
   ]
  },
  {
   "cell_type": "code",
   "execution_count": 129,
   "id": "4db6097a",
   "metadata": {},
   "outputs": [
    {
     "data": {
      "text/plain": [
       "2883.1929089647656"
      ]
     },
     "execution_count": 129,
     "metadata": {},
     "output_type": "execute_result"
    }
   ],
   "source": [
    "diff"
   ]
  },
  {
   "cell_type": "code",
   "execution_count": 130,
   "id": "18d56989",
   "metadata": {},
   "outputs": [
    {
     "data": {
      "text/plain": [
       "9002.331011531704"
      ]
     },
     "execution_count": 130,
     "metadata": {},
     "output_type": "execute_result"
    }
   ],
   "source": [
    "cost"
   ]
  },
  {
   "cell_type": "code",
   "execution_count": null,
   "id": "0cff96e4",
   "metadata": {},
   "outputs": [],
   "source": []
  },
  {
   "cell_type": "markdown",
   "id": "b05aa510",
   "metadata": {},
   "source": [
    "via solve_ivp"
   ]
  }
 ],
 "metadata": {
  "kernelspec": {
   "display_name": "Python 3 (ipykernel)",
   "language": "python",
   "name": "python3"
  },
  "language_info": {
   "codemirror_mode": {
    "name": "ipython",
    "version": 3
   },
   "file_extension": ".py",
   "mimetype": "text/x-python",
   "name": "python",
   "nbconvert_exporter": "python",
   "pygments_lexer": "ipython3",
   "version": "3.11.4"
  }
 },
 "nbformat": 4,
 "nbformat_minor": 5
}
